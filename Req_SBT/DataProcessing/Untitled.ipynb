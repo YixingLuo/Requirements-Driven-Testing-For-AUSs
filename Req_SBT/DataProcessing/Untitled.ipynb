{
 "cells": [
  {
   "cell_type": "code",
   "execution_count": null,
   "metadata": {},
   "outputs": [],
   "source": [
    "import sys\n",
    "sys.path.append(\"..\")\n",
    "import json\n",
    "import numpy as np\n",
    "import random\n",
    "import os\n",
    "import time\n",
    "import seaborn as sns\n",
    "import matplotlib.pyplot as plt\n",
    "import pandas as pd\n",
    "from pandas.core.frame import DataFrame"
   ]
  },
  {
   "cell_type": "code",
   "execution_count": null,
   "metadata": {},
   "outputs": [],
   "source": [
    "file_folder_orgin = os.path.abspath(os.path.join(os.getcwd(), \"..\")) + \"/2020_12_01_NSGA_II_results_10000\"\n",
    "# file_folder_adapt = os.path.abspath(os.path.join(os.getcwd(), \"..\")) + \"/2020_11_30_NSGAII_results_10000\"\n",
    "\n",
    "sum_list_orgin = []\n",
    "result_list = []\n",
    "fileList = os.listdir(file_folder_orgin)\n",
    "fileList.sort()\n",
    "for i in range(len(fileList)):\n",
    "    textname = file_folder_orgin + '/' + fileList[i]\n",
    "    # print(textname)\n",
    "    result = np.loadtxt(textname)\n",
    "    sum = 0\n",
    "    result_list.append(list(result))\n",
    "    for j in range(len(result)):\n",
    "        if result[j] == 1:\n",
    "            sum += result[j] * np.power(2, j)\n",
    "    sum_list_orgin.append(sum)"
   ]
  },
  {
   "cell_type": "code",
   "execution_count": null,
   "metadata": {},
   "outputs": [],
   "source": []
  }
 ],
 "metadata": {
  "kernelspec": {
   "display_name": "Python 3",
   "language": "python",
   "name": "python3"
  }
 },
 "nbformat": 4,
 "nbformat_minor": 2
}
