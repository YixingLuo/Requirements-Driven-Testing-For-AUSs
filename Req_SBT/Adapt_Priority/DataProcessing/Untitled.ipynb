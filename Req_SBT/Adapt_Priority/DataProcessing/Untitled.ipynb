{
 "cells": [
  {
   "cell_type": "code",
   "execution_count": null,
   "metadata": {},
   "outputs": [],
   "source": [
    "import sys\n",
    "sys.path.append(\"..\")\n",
    "import json\n",
    "import numpy as np\n",
    "import random\n",
    "import os\n",
    "import time\n",
    "import seaborn as sns\n",
    "import matplotlib.pyplot as plt\n",
    "import pandas as pd\n",
    "from pandas.core.frame import DataFrame"
   ]
  },
  {
   "cell_type": "code",
   "execution_count": null,
   "metadata": {},
   "outputs": [],
   "source": [
    "# file_folder_orgin = os.path.abspath(os.path.join(os.getcwd(), \"..\")) + \"/2020_12_01_NSGA_II_results_10000\"\n",
    "file_folder_orgin = os.path.abspath(os.path.join(os.getcwd(), \"..\")) + \"/2020_12_03_NSGA_III_results_10000\"\n",
    "\n",
    "sum_list_orgin = []\n",
    "result_list = []\n",
    "fileList = os.listdir(file_folder_orgin)\n",
    "fileList.sort()\n",
    "for i in range(len(fileList)):\n",
    "    textname = file_folder_orgin + '/' + fileList[i]\n",
    "    # print(textname)\n",
    "    result = np.loadtxt(textname)\n",
    "    sum = 0\n",
    "    # flag = 0\n",
    "    # for j in range(len(result)):\n",
    "    # \tif not (result[j] >=0 and result[j] <= 1):\n",
    "    #         flag = 1\n",
    "    # \t\tbreak\n",
    "    # if not flag:\n",
    "    result_new = [result[0],result[1],result[2],result[3],result[5]]\n",
    "    result_list.append(list(result))\n",
    "    for j in range(len(result)):\n",
    "        if result[j] == 1:\n",
    "            sum += result[j] * np.power(2, j)\n",
    "    sum_list_orgin.append(sum)"
   ]
  },
  {
   "cell_type": "code",
   "execution_count": null,
   "metadata": {},
   "outputs": [],
   "source": [
    "sns.set_style(\"darkgrid\")\n",
    "data = DataFrame(result_list)\n",
    "data.rename(columns={0:'a',1:'b',2:'c',3:'d',4:'e',5:'f',6:'g',7:'h',8:'i'},inplace=True)#注意这里0和1都不是字符串\n",
    "data.dropna(axis=0,how='any')\n",
    "print(data)\n",
    "sns.distplot(data['a'])"
   ]
  },
  {
   "cell_type": "code",
   "execution_count": null,
   "metadata": {},
   "outputs": [],
   "source": [
    "sns.displot(data['g'])"
   ]
  },
  {
   "cell_type": "code",
   "execution_count": null,
   "metadata": {},
   "outputs": [],
   "source": [
    "sns.distplot(data['c'])"
   ]
  },
  {
   "cell_type": "code",
   "execution_count": null,
   "metadata": {},
   "outputs": [],
   "source": [
    "sns.distplot(data['d'])"
   ]
  },
  {
   "cell_type": "code",
   "execution_count": null,
   "metadata": {},
   "outputs": [],
   "source": [
    "sns.distplot(data['e'])"
   ]
  },
  {
   "cell_type": "code",
   "execution_count": null,
   "metadata": {},
   "outputs": [],
   "source": [
    "print(data.corr())\n",
    "sns.pairplot(data)"
   ]
  },
  {
   "cell_type": "code",
   "execution_count": null,
   "metadata": {},
   "outputs": [],
   "source": [
    "sns.heatmap(data.corr())"
   ]
  },
  {
   "cell_type": "code",
   "execution_count": null,
   "metadata": {},
   "outputs": [],
   "source": [
    "sns.clustermap(data.corr())"
   ]
  },
  {
   "cell_type": "code",
   "execution_count": null,
   "metadata": {},
   "outputs": [],
   "source": [
    "g = sns.PairGrid(data)\n",
    "g.map_diag(sns.distplot)\n",
    "g.map_upper(plt.scatter)\n",
    "g.map_lower(sns.kdeplot)"
   ]
  },
  {
   "cell_type": "code",
   "execution_count": null,
   "metadata": {},
   "outputs": [],
   "source": []
  },
  {
   "cell_type": "code",
   "execution_count": null,
   "metadata": {},
   "outputs": [],
   "source": []
  }
 ],
 "metadata": {
  "kernelspec": {
   "display_name": "tensorflow",
   "language": "python",
   "name": "tensorflow"
  },
  "language_info": {
   "codemirror_mode": {
    "name": "ipython",
    "version": 3
   },
   "file_extension": ".py",
   "mimetype": "text/x-python",
   "name": "python",
   "nbconvert_exporter": "python",
   "pygments_lexer": "ipython3",
   "version": "3.7.3"
  }
 },
 "nbformat": 4,
 "nbformat_minor": 2
}
